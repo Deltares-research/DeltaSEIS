{
 "cells": [
  {
   "cell_type": "markdown",
   "id": "3a396648",
   "metadata": {},
   "source": [
    "# Tutorial seg-y editing using deltaseis\n",
    "\n",
    "In this tutorial we will load a seg-y file and performs several edits to it before writing the results to a copy of this seg-y file. The operatations we will go through are:\n",
    "- setting a new record lengths to reduce data volume\n",
    "- fix navigation of spike or erroneous values if there are any\n",
    "- perform a coordinate transformation to the meta data of the seg-y file\n",
    "- import bathymetric depths from an ASCII grid\n",
    "- pick the depth of the seabed reflector\n",
    "- apply heave correction by applying static currections \n",
    "- apply a tide and sensor depth correction to reduce the seismic datum to mean sea level (MSL)\n",
    "- apply several edits to the trace header meta data, to clean up the data to industry standard seg-y rev1, that is readily imported in any interpretation software like Kingdom or Petrel\n",
    "- write the result to file\n",
    "\n",
    "For most of the steps we will plot the intermediate results for QC."
   ]
  },
  {
   "cell_type": "markdown",
   "id": "8fbe843c",
   "metadata": {},
   "source": [
    "As a first step we make the necessary imports and set the path to the seg-y file under investigation "
   ]
  },
  {
   "cell_type": "code",
   "execution_count": 1,
   "id": "1e2be986-7713-4842-9375-c9726a2919aa",
   "metadata": {},
   "outputs": [
    {
     "ename": "ImportError",
     "evalue": "cannot import name 'masw' from 'deltaseis.processing.preprocessing' (C:\\Users\\nieboer\\gitclones\\DeltaSEIS\\deltaseis\\processing\\preprocessing.py)",
     "output_type": "error",
     "traceback": [
      "\u001b[1;31m---------------------------------------------------------------------------\u001b[0m",
      "\u001b[1;31mImportError\u001b[0m                               Traceback (most recent call last)",
      "Cell \u001b[1;32mIn[1], line 5\u001b[0m\n\u001b[0;32m      2\u001b[0m get_ipython()\u001b[38;5;241m.\u001b[39mrun_line_magic(\u001b[38;5;124m'\u001b[39m\u001b[38;5;124mmatplotlib\u001b[39m\u001b[38;5;124m'\u001b[39m, \u001b[38;5;124m'\u001b[39m\u001b[38;5;124minline\u001b[39m\u001b[38;5;124m'\u001b[39m)\n\u001b[0;32m      4\u001b[0m \u001b[38;5;28;01mfrom\u001b[39;00m \u001b[38;5;21;01mpathlib\u001b[39;00m \u001b[38;5;28;01mimport\u001b[39;00m Path\n\u001b[1;32m----> 5\u001b[0m \u001b[38;5;28;01mfrom\u001b[39;00m \u001b[38;5;21;01mdeltaseis\u001b[39;00m \u001b[38;5;28;01mimport\u001b[39;00m Segy_edit\n",
      "File \u001b[1;32m~\\gitclones\\DeltaSEIS\\deltaseis\\__init__.py:2\u001b[0m\n\u001b[0;32m      1\u001b[0m \u001b[38;5;28;01mfrom\u001b[39;00m \u001b[38;5;21;01mdeltaseis\u001b[39;00m\u001b[38;5;21;01m.\u001b[39;00m\u001b[38;5;21;01mreaders\u001b[39;00m\u001b[38;5;21;01m.\u001b[39;00m\u001b[38;5;21;01mreader_seismic_semd\u001b[39;00m \u001b[38;5;28;01mimport\u001b[39;00m read_semd\n\u001b[1;32m----> 2\u001b[0m \u001b[38;5;28;01mfrom\u001b[39;00m \u001b[38;5;21;01mdeltaseis\u001b[39;00m\u001b[38;5;21;01m.\u001b[39;00m\u001b[38;5;21;01mprocessing\u001b[39;00m\u001b[38;5;21;01m.\u001b[39;00m\u001b[38;5;21;01mpreprocessing\u001b[39;00m \u001b[38;5;28;01mimport\u001b[39;00m resample, deltaseis_to_obspy, obspy_to_deltaseis, masw\n\u001b[0;32m      3\u001b[0m \u001b[38;5;28;01mfrom\u001b[39;00m \u001b[38;5;21;01mdeltaseis\u001b[39;00m\u001b[38;5;21;01m.\u001b[39;00m\u001b[38;5;21;01mexport\u001b[39;00m\u001b[38;5;21;01m.\u001b[39;00m\u001b[38;5;21;01mexport_seismic_sg2\u001b[39;00m \u001b[38;5;28;01mimport\u001b[39;00m export_sg2, export_sgy\n\u001b[0;32m      4\u001b[0m \u001b[38;5;28;01mfrom\u001b[39;00m \u001b[38;5;21;01mdeltaseis\u001b[39;00m\u001b[38;5;21;01m.\u001b[39;00m\u001b[38;5;21;01mtools\u001b[39;00m\u001b[38;5;21;01m.\u001b[39;00m\u001b[38;5;21;01msegy_editor\u001b[39;00m \u001b[38;5;28;01mimport\u001b[39;00m Segy_edit\n",
      "\u001b[1;31mImportError\u001b[0m: cannot import name 'masw' from 'deltaseis.processing.preprocessing' (C:\\Users\\nieboer\\gitclones\\DeltaSEIS\\deltaseis\\processing\\preprocessing.py)"
     ]
    }
   ],
   "source": [
    "## set VScode supported backend for matplotlib\n",
    "%matplotlib inline\n",
    "\n",
    "from pathlib import Path\n",
    "from deltaseis import Segy_edit"
   ]
  },
  {
   "cell_type": "code",
   "execution_count": null,
   "id": "f9c2e93e-8e3b-4c4c-9514-c80e6f86afb4",
   "metadata": {},
   "outputs": [],
   "source": [
    "segy_file = Path(\"../data/bergen0111a.sgy\")       # set the path of the seg-y file to be edited"
   ]
  },
  {
   "cell_type": "markdown",
   "id": "6a487d48-94eb-4ab1-9afc-fa0466e36288",
   "metadata": {},
   "source": [
    "Now we open an instance of Segy_edit class. Since this instance relates to a line of the Bergen seismic data set, let's call it bergen."
   ]
  },
  {
   "cell_type": "code",
   "execution_count": null,
   "id": "7b5b3e72-2ba9-4295-9344-d7080795283a",
   "metadata": {},
   "outputs": [],
   "source": [
    "bergen = Segy_edit(segy_file)"
   ]
  },
  {
   "cell_type": "markdown",
   "id": "3cf77a69",
   "metadata": {},
   "source": [
    "### **Set new record length**\n",
    "Now we have a first peek at what the data actually look like. From this we can see that the record length extents slightly beyond the deepest usable signal. By cutting the record length we limit the file data size. This will speed up further processing and importing the data for interpretation in software like Kingdom."
   ]
  },
  {
   "cell_type": "code",
   "execution_count": null,
   "id": "ab79a48e",
   "metadata": {},
   "outputs": [],
   "source": [
    "bergen.plot(clip=0.1)           # initial plot\n",
    "bergen.set_record_length(45)    # cut the record length from 60 to 45 milliseconds\n",
    "bergen.plot(clip=0.1)           # plot after cutting record length"
   ]
  },
  {
   "cell_type": "markdown",
   "id": "310504d1",
   "metadata": {},
   "source": [
    "### **Fix coordinates and coordinate transformation**\n",
    "Now we inspect the coordinates that belong to the data traces and that are stored in the meta data of the seg-y data called 'trace headers'. In this example, the coordinates are in good shape, there are no outliers. Happy days!"
   ]
  },
  {
   "cell_type": "code",
   "execution_count": null,
   "id": "c931e942",
   "metadata": {},
   "outputs": [],
   "source": [
    "bergen.fix_navigation_median()"
   ]
  },
  {
   "cell_type": "markdown",
   "id": "8074e596",
   "metadata": {},
   "source": [
    "Now we perform a coordinate transformation on the meta data in the trace headers. Our input file has geographical coordinates (lattitude, longitude) in WGS 84 (epsg 4326) and we would like to transform these to projected coordinates (easting, northing) in WGS 84, UTM 31 N (epsg 32631)."
   ]
  },
  {
   "cell_type": "code",
   "execution_count": null,
   "id": "16f8f4dd",
   "metadata": {},
   "outputs": [],
   "source": [
    "bergen.transform_coordinates(4326, 32631)"
   ]
  },
  {
   "cell_type": "markdown",
   "id": "8249f499",
   "metadata": {},
   "source": [
    "### **Import bathymetric grid**\n",
    "In the next step we will import an a ASCII (.asc) bathymetric grid of the same area where the seismic data was recorded. For all the coordinates in the meta data of the seg-y we will find the associated bathymetric depth using that grid.\n",
    "- first we set the path to the batymetric grid and then refer to that as the first argument in the read_grid method\n",
    "- then we have to set coordinate system of the seg-y, because we have just changed it to project WGS84 UTM 31 N (epsg 32631), we have to set that system!\n",
    "- then we have to set the coordinate system of the asci grid, which in this case is in geographic WGS 84 (epsg 4326)\n",
    "- as a last argument we put in the name we would like to give the output 'horizon'"
   ]
  },
  {
   "cell_type": "code",
   "execution_count": null,
   "id": "a094c906",
   "metadata": {},
   "outputs": [],
   "source": [
    "grid_path = Path(\"../data/bathy_clip_bergen0111a.asc\")    # set the path of the grid, from which you would like to extract the horizon\n",
    "bergen.read_grid(grid_path, 32631, 4326, horizon_name='bathy')              # import the depths of the grids at the coordinates of the segy data"
   ]
  },
  {
   "cell_type": "markdown",
   "id": "17d97df4",
   "metadata": {},
   "source": [
    "### **Seabed pick**\n",
    "Now we will pick the seabed reflector in from the seismic data. This uses the obspy STA/LTA function that is used for determining onsets of earthquakes. There are several parameters, so we first print the docstring of the function to get more information. After this we can set the parameters appropriately. This can be done for any of the methods in this notebook.\n",
    "\n",
    "Then we plot the data again and the bathymetric grid depths (converted to two-way travel time) and the seabed pick are plotted automatically. We set save_plot to True for later quality control."
   ]
  },
  {
   "cell_type": "code",
   "execution_count": null,
   "id": "a5cb4c28",
   "metadata": {},
   "outputs": [],
   "source": [
    "#help(bergen.get_seabed_pick)"
   ]
  },
  {
   "cell_type": "code",
   "execution_count": null,
   "id": "e2af8ffb",
   "metadata": {},
   "outputs": [],
   "source": [
    "bergen.get_seabed_pick(10, 100, 9, 3, truncate=10) # clearly this method needs beter documentation!!!\n",
    "bergen.plot(save_plot=True, clip=0.1)              # plot the data and save, clip the maximum amplitudes (this acts as a visual gain only)"
   ]
  },
  {
   "cell_type": "markdown",
   "id": "5951ccfe",
   "metadata": {},
   "source": [
    "### **Vertical corrections**\n",
    "In the next two steps we calculate and apply corrections for heave of the ship recording the seismic data and corrections for tide changes during the recording.\n"
   ]
  },
  {
   "cell_type": "markdown",
   "id": "45ca6e48",
   "metadata": {},
   "source": [
    "##### For heave correction\n",
    "- First we apply a savitsky-golay filter to the seabed pick so that it is smooths out the effect of heave (*warning*: this could also filter short wavelenght mega ripples)\n",
    "- Then we calculate the difference between the original and the smoothed seabed pick\n",
    "- The resulting difference is applied as vertical corrections to the data, which is now 'heave corrected'"
   ]
  },
  {
   "cell_type": "code",
   "execution_count": null,
   "id": "0246d380",
   "metadata": {},
   "outputs": [],
   "source": [
    "bergen.filter_horizon_savgol('seabed_pick', 'seabed_pick_savgol', 501, 4)\n",
    "bergen.calculate_difference_horizon('seabed_pick_savgol', 'seabed_pick', difference_horizon_name = 'heave')\n",
    "bergen.vertical_trace_corrections(bergen.heave)\n",
    "bergen.plot(save_plot=True, clip=0.1)"
   ]
  },
  {
   "cell_type": "markdown",
   "id": "aacf5a58",
   "metadata": {},
   "source": [
    "##### For tide correction\n",
    "- First we apply a savitsky-golay filter to the seabed pick so that it is smooths out the effect of heave (*warning*: this could also filter short wavelenght mega ripples)\n",
    "- First we calculate the difference between the bathymetric grid and the seabed pick\n",
    "- Then a very smooth trend through this resulting 'raw tide' is calculated\n",
    "- The result is the actual tide effect and is applied as a vertical correction to the data, which is now 'tide corrected' \n",
    "\n",
    "Note 1: if we would apply the raw tide to the data, the seabed would fit exactly to the bathymetric grid which seems like the perfect correction. However, for reasons beyond the scope of this tutorial, the shape of the seabed pick and the bathymetry will never be identical and 'forcing' the seismic data onto it strongly distorts the signal and **greatly reduces its interpretability**\n",
    "\n",
    "Note 2: the tide als includes vertical corrections for the changes in sensor depth that result from changes the recording vessels velocities and/or changes in sea currents."
   ]
  },
  {
   "cell_type": "code",
   "execution_count": null,
   "id": "7dcd5a5a",
   "metadata": {},
   "outputs": [],
   "source": [
    "bergen.calculate_difference_horizon('bathy', 'seabed_pick', difference_horizon_name ='tide_raw')\n",
    "bergen.filter_horizon_savgol('tide_raw', 'tide', 2001, 2)\n",
    "bergen.vertical_trace_corrections(bergen.tide)\n",
    "bergen.plot(save_plot=True, clip=0.1)"
   ]
  },
  {
   "cell_type": "markdown",
   "id": "8fb0dce3",
   "metadata": {},
   "source": [
    "The next step is to set some of the trace header meta data to industry standard, or user required values. This helps the seg-y to become more easily loadable in interpretation software."
   ]
  },
  {
   "cell_type": "code",
   "execution_count": null,
   "id": "73e71244",
   "metadata": {},
   "outputs": [],
   "source": [
    "bergen.set_endian('big')                            # set file format to have big endian byte order\n",
    "bergen.set_trace_number_in_field_record()           # set trace number in field record to 1 for single-channel data\n",
    "bergen.renumber_shotpoints()                        # populate shotpoint numbers and set to unique values per trace\n",
    "bergen.copy_source_coordinates_to_group()           # copy coordinates between coordinate trace headers\n",
    "bergen.set_output_scalar(-1000)                     # set the output scalar"
   ]
  },
  {
   "cell_type": "markdown",
   "id": "f935229b",
   "metadata": {},
   "source": [
    "The last step is to write the results to seg-y"
   ]
  },
  {
   "cell_type": "code",
   "execution_count": null,
   "id": "1e30dbc0",
   "metadata": {},
   "outputs": [],
   "source": [
    "segy_outfile = segy_file.with_stem(segy_file.stem + \"_TUTORIAL\")    # set the path of the output seg-y file to be the same as input but with _TUTORIAL added to the name\n",
    "bergen.write(segy_outfile)                                          # write the edits to seg-y"
   ]
  },
  {
   "cell_type": "markdown",
   "id": "a2c9d7cb",
   "metadata": {},
   "source": [
    "After the file is written, you can load the data for inspection using freeware [Seisee](https://seisee.software.informer.com/ \"Download page Seisee\"), or load it into dedicated interpretation software like Kingdom or Petrel."
   ]
  }
 ],
 "metadata": {
  "kernelspec": {
   "display_name": "Python 3 (ipykernel)",
   "language": "python",
   "name": "python3"
  },
  "language_info": {
   "codemirror_mode": {
    "name": "ipython",
    "version": 3
   },
   "file_extension": ".py",
   "mimetype": "text/x-python",
   "name": "python",
   "nbconvert_exporter": "python",
   "pygments_lexer": "ipython3",
   "version": "3.12.3"
  }
 },
 "nbformat": 4,
 "nbformat_minor": 5
}
